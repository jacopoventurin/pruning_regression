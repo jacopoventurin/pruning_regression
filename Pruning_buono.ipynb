{
 "cells": [
  {
   "cell_type": "markdown",
   "id": "1f5571e7-b162-402f-af7e-4e075c77f965",
   "metadata": {},
   "source": [
    "faccio un modello lo addestro poi lo copio varie volte e poi faccio un pruning interno copy.deepcopy(model)"
   ]
  },
  {
   "cell_type": "code",
   "execution_count": 1,
   "id": "ebe73fd5-3dd6-43f9-bba5-a9498af817c2",
   "metadata": {},
   "outputs": [],
   "source": [
    "import numpy as np\n",
    "import torch\n",
    "import torch.nn as nn\n",
    "import torch.nn.functional as F\n",
    "import matplotlib.pyplot as plt\n",
    "import copy\n",
    "from torch.nn.parameter import Parameter\n",
    "from Spectral_Layer_test import Spectral\n",
    "from pruning_functions import BaseModel, evaluate, fit, LinearForPruning, multi_prune\n",
    "from tqdm import trange"
   ]
  },
  {
   "cell_type": "code",
   "execution_count": 2,
   "id": "fe83494f-13a2-481e-8d2c-5fad792e0308",
   "metadata": {},
   "outputs": [
    {
     "data": {
      "image/png": "[encoded data removed]",
      "text/plain": [
       "<Figure size 576x432 with 1 Axes>"
      ]
     },
     "metadata": {
      "needs_background": "light"
     },
     "output_type": "display_data"
    }
   ],
   "source": [
    "alpha = 0.6 \n",
    "sigma = 0.01\n",
    "size = 70000\n",
    "\n",
    "x = np.linspace(0, 1, size)\n",
    "z = np.random.normal(0, sigma, size)  # noise\n",
    "t = x**alpha\n",
    "y = t + z   # add noise\n",
    "\n",
    "X = []\n",
    "Y = []\n",
    "for i in range(size):\n",
    "    X.append([x[i]])\n",
    "    Y.append([y[i]])\n",
    "    \n",
    "X = np.array(X)\n",
    "Y = np.array(Y)\n",
    "\n",
    "plt.figure (figsize = (8, 6))\n",
    "plt.plot(X, Y, marker='.', linestyle = '', label='data without noise', markersize=0.5)\n",
    "plt.plot(x, t, marker='.', linestyle='', color='red', label='data with noise', markersize=0.5)\n",
    "plt.title('Dataset')\n",
    "plt.legend(markerscale=10.)\n",
    "plt.xlabel('x-label')\n",
    "plt.ylabel('y-label')\n",
    "plt.show()"
   ]
  },
  {
   "cell_type": "code",
   "execution_count": 3,
   "id": "ad7ce11a-1292-4bc5-9b37-348bc7669e5c",
   "metadata": {},
   "outputs": [],
   "source": [
    "from torch.utils.data import TensorDataset\n",
    "from torch.utils.data import DataLoader\n",
    "from torch.utils.data import random_split\n",
    "\n",
    "X = torch.from_numpy(X)\n",
    "Y = torch.from_numpy(Y)\n",
    "\n",
    "# Define dataset\n",
    "dataset = TensorDataset(X, Y)\n",
    "train_ds, val_ds, test_ds = random_split(dataset, [50000, 10000, 10000])\n",
    "\n",
    "# Define data loader\n",
    "batch_size = 1500\n",
    "train_dl = DataLoader(train_ds, batch_size, shuffle=True)\n",
    "val_dl = DataLoader(val_ds, batch_size)\n",
    "test_dl = DataLoader(test_ds, batch_size)"
   ]
  },
  {
   "cell_type": "code",
   "execution_count": 4,
   "id": "4b0e484f-8b96-4187-a1b2-55e55d2e668f",
   "metadata": {},
   "outputs": [],
   "source": [
    "# Regression model for spectral pruning\n",
    "config = {'base_grad' : False,\n",
    "         'start_grad' : True,\n",
    "         'end_grad' : True,\n",
    "         'bias': False}\n",
    "\n",
    "class PruningRegressionSpectral(BaseModel):\n",
    "    def __init__(self):\n",
    "        super().__init__()\n",
    "        self.spectralin = Spectral(1, 200, **config)\n",
    "        self.spectral1 = Spectral(200, 200, **config)\n",
    "        self.spectralout = Spectral(200, 1, **config)\n",
    "    \n",
    "    def forward(self,x):\n",
    "        out = self.spectralin(x)  # Imput: first linear transformation\n",
    "        out = self.spectral1(out) # Linear transformation\n",
    "        out = F.elu(out)   # Non linear filter\n",
    "        out = self.spectralout(out)  # Last linear transformation: output\n",
    "        return out\n",
    "   \n",
    "        \n",
    "pruning_model_spectral = PruningRegressionSpectral()"
   ]
  },
  {
   "cell_type": "code",
   "execution_count": 5,
   "id": "bc0e3c9a-69cc-4d14-bf74-07c40256f7af",
   "metadata": {},
   "outputs": [],
   "source": [
    "# Regression model for classical pruning\n",
    "config = {'bias': False}\n",
    "\n",
    "class PruningRegressionClassical(BaseModel):\n",
    "    def __init__(self):\n",
    "        super().__init__()\n",
    "        self.classicalin = LinearForPruning(1, 200, **config)\n",
    "        self.classical1 = LinearForPruning(200, 200, **config)\n",
    "        self.classicalout = LinearForPruning(200, 1, **config)\n",
    "    \n",
    "    def forward(self,x):\n",
    "        out = self.classicalin(x)  # Imput: first linear transformation\n",
    "        out = self.classical1(out) # Linear transformation\n",
    "        out = F.elu(out)   # Non linear filter\n",
    "        out = self.classicalout(out)  # Last linear transformation: output\n",
    "        return out\n",
    "    \n",
    "    \n",
    "    def pruning_classical(self,\n",
    "                    perc: float,\n",
    "                    grad: bool = False):\n",
    "        \n",
    "        self.classicalin.prune(perc, grad)\n",
    "        self.classical1.prune(perc, grad)\n",
    "        self.classicalout.prune(perc, grad)\n",
    "        \n",
    "   \n",
    "        \n",
    "pruning_model_classical = PruningRegressionClassical()"
   ]
  },
  {
   "cell_type": "code",
   "execution_count": 6,
   "id": "a26fd38e-0d1c-409b-947d-b8c895437396",
   "metadata": {},
   "outputs": [
    {
     "name": "stderr",
     "output_type": "stream",
     "text": [
      "Epoch 19: 100%|████████████████| 20/20 [00:16<00:00,  1.23epochs/s, loss=0.0104]\n"
     ]
    },
    {
     "name": "stdout",
     "output_type": "stream",
     "text": [
      "Epoch [19], val_loss: 0.010678, val_MAE: 0.092170, val_RMSE: 0.103329\n"
     ]
    },
    {
     "name": "stderr",
     "output_type": "stream",
     "text": [
      "Epoch 19: 100%|██████████████| 20/20 [00:15<00:00,  1.30epochs/s, loss=0.000341]"
     ]
    },
    {
     "name": "stdout",
     "output_type": "stream",
     "text": [
      "Epoch [19], val_loss: 0.000320, val_MAE: 0.013174, val_RMSE: 0.0178842\n"
     ]
    },
    {
     "name": "stderr",
     "output_type": "stream",
     "text": [
      "\n"
     ]
    }
   ],
   "source": [
    "# Pre train of spectral principal model \n",
    "args = {'lr': 0.01,\n",
    "       'model': pruning_model_spectral,\n",
    "       'train_loader': train_dl,\n",
    "       'val_loader': val_dl,\n",
    "       'opt_func': torch.optim.Adam}\n",
    "\n",
    "history_principal_spectral, result_principal_spectral = fit(20, **args)\n",
    "\n",
    "# Pre train of classical principal model \n",
    "args = {'lr': 0.01,\n",
    "       'model': pruning_model_classical,\n",
    "       'train_loader': train_dl,\n",
    "       'val_loader': val_dl,\n",
    "       'opt_func': torch.optim.Adam}\n",
    "\n",
    "history_principal_classical, result_principal_classical = fit(20, **args)"
   ]
  },
  {
   "cell_type": "code",
   "execution_count": 7,
   "id": "cef23ecc-3bea-4e50-affd-b8bf81d0f128",
   "metadata": {},
   "outputs": [],
   "source": [
    "def prune(layer: Spectral, \n",
    "          in_dim: int, \n",
    "          out_dim: int,\n",
    "          start_grad: bool = True, \n",
    "          end_grad: bool = True, \n",
    "          base_grad: bool = True,\n",
    "          bias_grad: bool = True):\n",
    "    \"\"\"\n",
    "    Take as imput a Spectral laye and apply pruning procedure on the eigenvalues\n",
    "    \n",
    "    Parameters\n",
    "    ----------\n",
    "    layer:\n",
    "        Spectral layer only supported\n",
    "    in_dim:\n",
    "        new in dimension, must be int\n",
    "    out_dim:\n",
    "        new out dimension, must be int\n",
    "    start_grad:\n",
    "        If set to True layer.diag_start is trainable\n",
    "    end_grad:\n",
    "        If set to True layer.diag_end is trainable\n",
    "    base_grad:\n",
    "        if set to True layer.base is trainable\n",
    "    bias_grad:\n",
    "        if set to True layer.bia is trainable\n",
    "        \n",
    "    \n",
    "    \"\"\"\n",
    "    \n",
    "    if not isinstance(layer, Spectral):\n",
    "        raise RuntimeError(\"Only Spectral layer is supported\")\n",
    "        \n",
    "    diag_start = layer.diag_start.detach()\n",
    "    diag_end = layer.diag_end.detach()\n",
    "    base = layer.base.detach()\n",
    "    if layer.bias is not None:\n",
    "        bias = layer.bias.detach()\n",
    "    else:\n",
    "        bias = None\n",
    "    abs_diag_start = torch.abs(diag_start)\n",
    "    abs_diag_end = torch.abs(diag_end)\n",
    "    \n",
    "    # Find indeces of maximum eigenvalues\n",
    "    _ , index_start = torch.topk(abs_diag_start, in_dim, dim=0)\n",
    "    _ , index_end = torch.topk(abs_diag_end, out_dim, dim=1)\n",
    "    \n",
    "    # Prune eigenvalues and eigenvectors \n",
    "    diag_start = diag_start[index_start, 0]\n",
    "    diag_end = diag_end[0, index_end]\n",
    "    base = base[index_start, index_end]\n",
    "    if layer.bias is not None:\n",
    "        bias = bias[index_end]\n",
    "\n",
    "    \n",
    "    # New structure\n",
    "    layer.diag_start = nn.Parameter(diag_start, requires_grad=start_grad)\n",
    "    layer.diag_end = nn.Parameter(diag_end, requires_grad=end_grad)\n",
    "    layer.base = nn.Parameter(base, requires_grad=base_grad)\n",
    "    if layer.bias is not None:\n",
    "        layer.bias = nn.Parameter(bias, requires_grad=bias_grad)\n",
    "        \n",
    "    # New shape of the model \n",
    "    layer.in_dim = index_start.size(dim=0)\n",
    "    layer.out_dim = index_end.size(dim=1)\n",
    "        \n",
    "        \n",
    "def multi_prune(model: nn.Module, \n",
    "                new_dims: int,\n",
    "                start_grad: bool = True, \n",
    "                end_grad: bool = True, \n",
    "                base_grad: bool = True,\n",
    "                bias_grad: bool = False):\n",
    "    \n",
    "    \"\"\"\n",
    "    Apply the pruning procedure over all the network \n",
    "    \n",
    "    Parameters\n",
    "    ----------\n",
    "    model:\n",
    "        nn.Module on witch apply pruning procedure\n",
    "    new_dims:\n",
    "        List of new dims, expected nex_dims = [[in1, out1],[in2, out2]...]\n",
    "   start_grad:\n",
    "        If set to True layer.diag_start is trainable\n",
    "    end_grad:\n",
    "        If set to True layer.diag_end is trainable\n",
    "    base_grad:\n",
    "        if set to True layer.base is trainable\n",
    "    bias_grad:\n",
    "        if set to True layer.bia is trainable\n",
    "    \n",
    "    \n",
    "    Example\n",
    "    -------\n",
    "    \n",
    "    model = nn.Sequential(Spectral(10, 200), Spectral(200, 200), nn.ELU(), Spectral(200, 1))\n",
    "    new_dim = [[10,20],[20,20],[20,1]]\n",
    "    multi_prune(model, new_dim)\n",
    "    \n",
    "    \"\"\"\n",
    "    \n",
    "    args = {'start_grad': start_grad, 'end_grad': end_grad, 'base_grad': base_grad, 'bias_grad': bias_grad}\n",
    "    layers = [module for module in model.modules() if isinstance(module, Spectral)]\n",
    "    \n",
    "    length = len(layers)\n",
    "    length_input = len(new_dims)\n",
    "\n",
    "    \n",
    "    if not length==length_input:\n",
    "        raise RuntimeError(\"new_dims shape is not correct\")\n",
    "    \n",
    "    for l in range(length):\n",
    "        prune(layers[l], in_dim=new_dims[l][0], out_dim=new_dims[l][1], **args)"
   ]
  },
  {
   "cell_type": "code",
   "execution_count": 21,
   "id": "76cb6fd4-629a-4d24-bd25-f5d861409dda",
   "metadata": {},
   "outputs": [],
   "source": [
    "cuts = [x for x in range(101) if x%5==0] # All multiples of 5 from 0 to 5\n",
    "#cuts = [50, 75]\n",
    "\n",
    "\n",
    "model_s = []\n",
    "model_c = []\n",
    "\n",
    "args_s = {'start_grad': True,\n",
    "        'end_grad': True,\n",
    "        'base_grad': True}\n",
    "\n",
    "args_c = {'grad': True}\n",
    "\n",
    "for i in range(len(cuts)):\n",
    "    model_s.append(copy.deepcopy(pruning_model_spectral))\n",
    "    model_c.append(copy.deepcopy(pruning_model_classical))\n",
    "for i in range(len(cuts)):\n",
    "    n = 200-(10*i)\n",
    "    new_dim = [[1,n],[n,n],[n,1]]\n",
    "    multi_prune(model_s[i], new_dim, **args_s)\n",
    "    model_c[i].pruning_classical(perc=cuts[i], **args_c)\n",
    "    "
   ]
  },
  {
   "cell_type": "code",
   "execution_count": 22,
   "id": "eed39106-f02d-45d7-9ae0-a1751204fc26",
   "metadata": {},
   "outputs": [
    {
     "name": "stdout",
     "output_type": "stream",
     "text": [
      "Model: model_s 0\n"
     ]
    },
    {
     "name": "stderr",
     "output_type": "stream",
     "text": [
      "Epoch 19: 100%|███████████████| 20/20 [00:16<00:00,  1.23epochs/s, loss=0.00123]\n"
     ]
    },
    {
     "name": "stdout",
     "output_type": "stream",
     "text": [
      "Epoch [19], val_loss: 0.001282, val_MAE: 0.029355, val_RMSE: 0.0357995\n",
      "Model: model_s 1\n"
     ]
    },
    {
     "name": "stderr",
     "output_type": "stream",
     "text": [
      "Epoch 19: 100%|███████████████| 20/20 [00:15<00:00,  1.25epochs/s, loss=0.00136]\n"
     ]
    },
    {
     "name": "stdout",
     "output_type": "stream",
     "text": [
      "Epoch [19], val_loss: 0.001248, val_MAE: 0.028799, val_RMSE: 0.0353277\n",
      "Model: model_s 2\n"
     ]
    },
    {
     "name": "stderr",
     "output_type": "stream",
     "text": [
      "Epoch 19: 100%|███████████████| 20/20 [00:14<00:00,  1.35epochs/s, loss=0.00125]\n"
     ]
    },
    {
     "name": "stdout",
     "output_type": "stream",
     "text": [
      "Epoch [19], val_loss: 0.001251, val_MAE: 0.028717, val_RMSE: 0.035368\n",
      "Model: model_s 3\n"
     ]
    },
    {
     "name": "stderr",
     "output_type": "stream",
     "text": [
      "Epoch 19: 100%|███████████████| 20/20 [00:14<00:00,  1.37epochs/s, loss=0.00125]\n"
     ]
    },
    {
     "name": "stdout",
     "output_type": "stream",
     "text": [
      "Epoch [19], val_loss: 0.001267, val_MAE: 0.029371, val_RMSE: 0.0355934\n",
      "Model: model_s 4\n"
     ]
    },
    {
     "name": "stderr",
     "output_type": "stream",
     "text": [
      "Epoch 19: 100%|███████████████| 20/20 [00:14<00:00,  1.41epochs/s, loss=0.00131]\n"
     ]
    },
    {
     "name": "stdout",
     "output_type": "stream",
     "text": [
      "Epoch [19], val_loss: 0.001307, val_MAE: 0.030174, val_RMSE: 0.0361473\n",
      "Model: model_s 5\n"
     ]
    },
    {
     "name": "stderr",
     "output_type": "stream",
     "text": [
      "Epoch 19: 100%|███████████████| 20/20 [00:13<00:00,  1.48epochs/s, loss=0.00119]\n"
     ]
    },
    {
     "name": "stdout",
     "output_type": "stream",
     "text": [
      "Epoch [19], val_loss: 0.001230, val_MAE: 0.028634, val_RMSE: 0.0350703\n",
      "Model: model_s 6\n"
     ]
    },
    {
     "name": "stderr",
     "output_type": "stream",
     "text": [
      "Epoch 19: 100%|███████████████| 20/20 [00:12<00:00,  1.56epochs/s, loss=0.00131]\n"
     ]
    },
    {
     "name": "stdout",
     "output_type": "stream",
     "text": [
      "Epoch [19], val_loss: 0.001244, val_MAE: 0.028610, val_RMSE: 0.0352732\n",
      "Model: model_s 7\n"
     ]
    },
    {
     "name": "stderr",
     "output_type": "stream",
     "text": [
      "Epoch 19: 100%|███████████████| 20/20 [00:12<00:00,  1.61epochs/s, loss=0.00114]\n"
     ]
    },
    {
     "name": "stdout",
     "output_type": "stream",
     "text": [
      "Epoch [19], val_loss: 0.001220, val_MAE: 0.028036, val_RMSE: 0.0349278\n",
      "Model: model_s 8\n"
     ]
    },
    {
     "name": "stderr",
     "output_type": "stream",
     "text": [
      "Epoch 19: 100%|███████████████| 20/20 [00:11<00:00,  1.72epochs/s, loss=0.00137]\n"
     ]
    },
    {
     "name": "stdout",
     "output_type": "stream",
     "text": [
      "Epoch [19], val_loss: 0.001322, val_MAE: 0.028892, val_RMSE: 0.0363484\n",
      "Model: model_s 9\n"
     ]
    },
    {
     "name": "stderr",
     "output_type": "stream",
     "text": [
      "Epoch 19: 100%|███████████████| 20/20 [00:11<00:00,  1.76epochs/s, loss=0.00133]\n"
     ]
    },
    {
     "name": "stdout",
     "output_type": "stream",
     "text": [
      "Epoch [19], val_loss: 0.001302, val_MAE: 0.029135, val_RMSE: 0.0360738\n",
      "Model: model_s 10\n"
     ]
    },
    {
     "name": "stderr",
     "output_type": "stream",
     "text": [
      "Epoch 19: 100%|███████████████| 20/20 [00:10<00:00,  1.83epochs/s, loss=0.00129]\n"
     ]
    },
    {
     "name": "stdout",
     "output_type": "stream",
     "text": [
      "Epoch [19], val_loss: 0.001187, val_MAE: 0.028352, val_RMSE: 0.034452\n",
      "Model: model_s 11\n"
     ]
    },
    {
     "name": "stderr",
     "output_type": "stream",
     "text": [
      "Epoch 19: 100%|████████████████| 20/20 [00:10<00:00,  1.87epochs/s, loss=0.0013]\n"
     ]
    },
    {
     "name": "stdout",
     "output_type": "stream",
     "text": [
      "Epoch [19], val_loss: 0.001241, val_MAE: 0.028455, val_RMSE: 0.0352216\n",
      "Model: model_s 12\n"
     ]
    },
    {
     "name": "stderr",
     "output_type": "stream",
     "text": [
      "Epoch 19: 100%|███████████████| 20/20 [00:10<00:00,  1.96epochs/s, loss=0.00142]\n"
     ]
    },
    {
     "name": "stdout",
     "output_type": "stream",
     "text": [
      "Epoch [19], val_loss: 0.001356, val_MAE: 0.028629, val_RMSE: 0.0368245\n",
      "Model: model_s 13\n"
     ]
    },
    {
     "name": "stderr",
     "output_type": "stream",
     "text": [
      "Epoch 19: 100%|███████████████| 20/20 [00:09<00:00,  2.05epochs/s, loss=0.00112]\n"
     ]
    },
    {
     "name": "stdout",
     "output_type": "stream",
     "text": [
      "Epoch [19], val_loss: 0.001219, val_MAE: 0.028175, val_RMSE: 0.0349052\n",
      "Model: model_s 14\n"
     ]
    },
    {
     "name": "stderr",
     "output_type": "stream",
     "text": [
      "Epoch 19: 100%|███████████████| 20/20 [00:09<00:00,  2.12epochs/s, loss=0.00128]\n"
     ]
    },
    {
     "name": "stdout",
     "output_type": "stream",
     "text": [
      "Epoch [19], val_loss: 0.001287, val_MAE: 0.029052, val_RMSE: 0.0358764\n",
      "Model: model_s 15\n"
     ]
    },
    {
     "name": "stderr",
     "output_type": "stream",
     "text": [
      "Epoch 19: 100%|███████████████| 20/20 [00:09<00:00,  2.19epochs/s, loss=0.00124]\n"
     ]
    },
    {
     "name": "stdout",
     "output_type": "stream",
     "text": [
      "Epoch [19], val_loss: 0.001234, val_MAE: 0.029329, val_RMSE: 0.0351302\n",
      "Model: model_s 16\n"
     ]
    },
    {
     "name": "stderr",
     "output_type": "stream",
     "text": [
      "Epoch 19: 100%|███████████████| 20/20 [00:08<00:00,  2.24epochs/s, loss=0.00117]\n"
     ]
    },
    {
     "name": "stdout",
     "output_type": "stream",
     "text": [
      "Epoch [19], val_loss: 0.001092, val_MAE: 0.026601, val_RMSE: 0.0330471\n",
      "Model: model_s 17\n"
     ]
    },
    {
     "name": "stderr",
     "output_type": "stream",
     "text": [
      "Epoch 19: 100%|██████████████| 20/20 [00:09<00:00,  2.17epochs/s, loss=0.000997]\n"
     ]
    },
    {
     "name": "stdout",
     "output_type": "stream",
     "text": [
      "Epoch [19], val_loss: 0.001112, val_MAE: 0.027068, val_RMSE: 0.0333498\n",
      "Model: model_s 18\n"
     ]
    },
    {
     "name": "stderr",
     "output_type": "stream",
     "text": [
      "Epoch 19: 100%|███████████████| 20/20 [00:08<00:00,  2.47epochs/s, loss=0.00099]\n"
     ]
    },
    {
     "name": "stdout",
     "output_type": "stream",
     "text": [
      "Epoch [19], val_loss: 0.001066, val_MAE: 0.026552, val_RMSE: 0.0326521\n",
      "Model: model_s 19\n"
     ]
    },
    {
     "name": "stderr",
     "output_type": "stream",
     "text": [
      "Epoch 19: 100%|██████████████| 20/20 [00:07<00:00,  2.52epochs/s, loss=0.000986]\n"
     ]
    },
    {
     "name": "stdout",
     "output_type": "stream",
     "text": [
      "Epoch [19], val_loss: 0.000942, val_MAE: 0.024653, val_RMSE: 0.0306972\n",
      "Model: model_s 20\n"
     ]
    },
    {
     "name": "stderr",
     "output_type": "stream",
     "text": [
      "Epoch 19: 100%|█████████████████| 20/20 [00:07<00:00,  2.59epochs/s, loss=0.459]"
     ]
    },
    {
     "name": "stdout",
     "output_type": "stream",
     "text": [
      "Epoch [19], val_loss: 0.453543, val_MAE: 0.624443, val_RMSE: 0.673418\n"
     ]
    },
    {
     "name": "stderr",
     "output_type": "stream",
     "text": [
      "\n"
     ]
    }
   ],
   "source": [
    "history_s = []\n",
    "result_s = []\n",
    "for i in range(len(cuts)):\n",
    "    args_s = {'lr': 0.01,\n",
    "              'model': model_s[i],\n",
    "              'train_loader': train_dl,\n",
    "              'val_loader': val_dl,\n",
    "              'opt_func': torch.optim.Adam}\n",
    "    print('Model: model_s',i)\n",
    "    h, r = fit(20, **args_s)\n",
    "    history_s.append(h)\n",
    "    result_s.append(r)"
   ]
  },
  {
   "cell_type": "code",
   "execution_count": 23,
   "id": "a3f34960-8151-466a-a962-7d2101f6b0bf",
   "metadata": {},
   "outputs": [],
   "source": [
    "t_c = [evaluate(model_c[i], test_dl) for i in range(len(cuts))]\n",
    "t_s = [evaluate(model_s[i], test_dl) for i in range(len(cuts))]\n",
    "\n",
    "test_c_loss = [t_c[i]['val_loss'] for i in range(len(cuts))]\n",
    "test_s_loss = [t_s[i]['val_loss'] for i in range(len(cuts))]\n",
    "test_c_mae = [t_c[i]['val_MAE'] for i in range(len(cuts))]\n",
    "test_s_mae = [t_s[i]['val_MAE'] for i in range(len(cuts))]\n",
    "test_c_rmse = [t_c[i]['val_RMSE'] for i in range(len(cuts))]\n",
    "test_s_rmse = [t_s[i]['val_RMSE'] for i in range(len(cuts))]"
   ]
  },
  {
   "cell_type": "code",
   "execution_count": 24,
   "id": "8a3538ae-3d2d-4cd6-9718-0e2e0a611e87",
   "metadata": {},
   "outputs": [
    {
     "data": {
      "image/png": "[encoded data removed]",
      "text/plain": [
       "<Figure size 432x288 with 1 Axes>"
      ]
     },
     "metadata": {
      "needs_background": "light"
     },
     "output_type": "display_data"
    }
   ],
   "source": [
    "plt.plot(cuts[:20],test_s_loss[:20], '-x', label='Spectral Pruning')\n",
    "#plt.plot(cuts,test_c_loss, '-x', label='Classical Pruning')\n",
    "plt.xlabel('percentile')\n",
    "plt.ylabel('loss')\n",
    "plt.legend()\n",
    "\n",
    "plt.show()"
   ]
  },
  {
   "cell_type": "code",
   "execution_count": 25,
   "id": "6082decc-7ea0-4683-9677-48cd23356b71",
   "metadata": {},
   "outputs": [
    {
     "data": {
      "image/png": "[encoded data removed]",
      "text/plain": [
       "<Figure size 432x288 with 1 Axes>"
      ]
     },
     "metadata": {
      "needs_background": "light"
     },
     "output_type": "display_data"
    }
   ],
   "source": [
    "plt.plot(cuts,test_s_mae, '-x', label='Spectral Pruning')\n",
    "plt.plot(cuts,test_c_mae, '-x', label='Classical Pruning')\n",
    "plt.xlabel('percentile')\n",
    "plt.ylabel('loss')\n",
    "plt.legend()\n",
    "\n",
    "plt.show()"
   ]
  },
  {
   "cell_type": "code",
   "execution_count": 26,
   "id": "47c68af7-7375-480d-ac4e-a7b8631a29f0",
   "metadata": {},
   "outputs": [
    {
     "data": {
      "image/png": "[encoded data removed]",
      "text/plain": [
       "<Figure size 432x288 with 1 Axes>"
      ]
     },
     "metadata": {
      "needs_background": "light"
     },
     "output_type": "display_data"
    }
   ],
   "source": [
    "plt.plot(cuts,test_s_rmse, '-x', label='Spectral Pruning')\n",
    "plt.plot(cuts,test_c_rmse, '-x', label='Classical Pruning')\n",
    "plt.xlabel('percentile')\n",
    "plt.ylabel('loss')\n",
    "plt.legend()\n",
    "\n",
    "plt.show()"
   ]
  },
  {
   "cell_type": "code",
   "execution_count": 27,
   "id": "b30dacc5-202f-494d-b96e-c2a883fd2ed2",
   "metadata": {},
   "outputs": [
    {
     "data": {
      "image/png": "[encoded data removed]",
      "text/plain": [
       "<Figure size 432x288 with 1 Axes>"
      ]
     },
     "metadata": {
      "needs_background": "light"
     },
     "output_type": "display_data"
    }
   ],
   "source": [
    "x_test, y_test = test_ds[:] \n",
    "y_classical = model_c[13](x_test)\n",
    "\n",
    "plt.plot(x_test, y_test, color='blue', linestyle='', marker='.', label='data', markersize=0.5)\n",
    "plt.plot(x_test, y_classical.detach(), color='red', linestyle='', marker='.', label='fit', markersize=0.5)\n",
    "plt.title('Fit with prune in direct space, model 13')\n",
    "plt.show()"
   ]
  },
  {
   "cell_type": "code",
   "execution_count": 28,
   "id": "80b7f2f3-760a-4e07-86a0-b4881d622f58",
   "metadata": {},
   "outputs": [
    {
     "data": {
      "image/png": "[encoded data removed]",
      "text/plain": [
       "<Figure size 432x288 with 1 Axes>"
      ]
     },
     "metadata": {
      "needs_background": "light"
     },
     "output_type": "display_data"
    }
   ],
   "source": [
    "x_test, y_test = test_ds[:] \n",
    "y_classical = model_c[14](x_test)\n",
    "\n",
    "plt.plot(x_test, y_test, color='blue', linestyle='', marker='.', label='data', markersize=0.5)\n",
    "plt.plot(x_test, y_classical.detach(), color='red', linestyle='', marker='.', label='fit', markersize=0.5)\n",
    "plt.title('Fit with prune in direct space, model 14')\n",
    "plt.show()"
   ]
  },
  {
   "cell_type": "code",
   "execution_count": 31,
   "id": "41148551-fc71-4ab2-a086-605dbdf69b8d",
   "metadata": {},
   "outputs": [
    {
     "data": {
      "image/png": "[encoded data removed]",
      "text/plain": [
       "<Figure size 432x288 with 1 Axes>"
      ]
     },
     "metadata": {
      "needs_background": "light"
     },
     "output_type": "display_data"
    }
   ],
   "source": [
    "x_test, y_test = test_ds[:] \n",
    "y_classical = model_s[0](x_test)\n",
    "\n",
    "plt.plot(x_test, y_test, color='blue', linestyle='', marker='.', label='data', markersize=0.5)\n",
    "plt.plot(x_test, y_classical.detach(), color='red', linestyle='', marker='.', label='fit', markersize=0.5)\n",
    "plt.title('Fit with prune in spectral space, model 13')\n",
    "plt.show()"
   ]
  },
  {
   "cell_type": "code",
   "execution_count": null,
   "id": "8173f28e-7735-4d92-89d3-40d5033b8f2e",
   "metadata": {},
   "outputs": [],
   "source": []
  }
 ],
 "metadata": {
  "kernelspec": {
   "display_name": "Python 3 (ipykernel)",
   "language": "python",
   "name": "python3"
  },
  "language_info": {
   "codemirror_mode": {
    "name": "ipython",
    "version": 3
   },
   "file_extension": ".py",
   "mimetype": "text/x-python",
   "name": "python",
   "nbconvert_exporter": "python",
   "pygments_lexer": "ipython3",
   "version": "3.8.5"
  }
 },
 "nbformat": 4,
 "nbformat_minor": 5
}
