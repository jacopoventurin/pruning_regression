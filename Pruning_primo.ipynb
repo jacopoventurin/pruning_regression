{
 "cells": [
  {
   "cell_type": "code",
   "execution_count": 1,
   "id": "7f7677c7-6f22-423a-a80b-d27c54fccdd3",
   "metadata": {},
   "outputs": [],
   "source": [
    "import numpy as np\n",
    "import torch\n",
    "import torch.nn as nn\n",
    "import torch.nn.functional as F\n",
    "from torch.nn.parameter import Parameter\n",
    "import matplotlib.pyplot as plt\n",
    "from Spectral_Layer import Spectral"
   ]
  },
  {
   "cell_type": "markdown",
   "id": "1b30e975-10d3-45e2-8dca-97e8ffc9611d",
   "metadata": {},
   "source": [
    "## Generate dataset"
   ]
  },
  {
   "cell_type": "code",
   "execution_count": 2,
   "id": "b133c4d5-4774-419a-9433-c1b9ac153820",
   "metadata": {},
   "outputs": [
    {
     "data": {
      "image/png": "[encoded data removed]",
      "text/plain": [
       "<Figure size 576x432 with 1 Axes>"
      ]
     },
     "metadata": {
      "needs_background": "light"
     },
     "output_type": "display_data"
    }
   ],
   "source": [
    "alpha = 2. \n",
    "sigma = 0.01\n",
    "size = 70000\n",
    "\n",
    "x = np.linspace(0, 1, size)\n",
    "z = np.random.normal(0, sigma, size)  # noise\n",
    "t = x**alpha\n",
    "y = t + z   # add noise\n",
    "\n",
    "X = []\n",
    "Y = []\n",
    "for i in range(size):\n",
    "    X.append([x[i]])\n",
    "    Y.append([y[i]])\n",
    "    \n",
    "X = np.array(X)\n",
    "Y = np.array(Y)\n",
    "\n",
    "plt.figure (figsize = (8, 6))\n",
    "plt.plot(X, Y, marker='.', linestyle = '', label='data without noise', markersize=0.5)\n",
    "plt.plot(x, t, marker='.', linestyle='', color='red', label='data with noise', markersize=0.5)\n",
    "plt.title('Dataset')\n",
    "plt.legend(markerscale=10.)\n",
    "plt.xlabel('x-label')\n",
    "plt.ylabel('y-label')\n",
    "plt.show()"
   ]
  },
  {
   "cell_type": "code",
   "execution_count": 3,
   "id": "f6e5c0c1-d4a2-4ed8-961b-efb57fbc893a",
   "metadata": {},
   "outputs": [],
   "source": [
    "from torch.utils.data import TensorDataset\n",
    "from torch.utils.data import DataLoader\n",
    "from torch.utils.data import random_split\n",
    "\n",
    "X = torch.from_numpy(X)\n",
    "Y = torch.from_numpy(Y)\n",
    "\n",
    "# Define dataset\n",
    "dataset = TensorDataset(X, Y)\n",
    "train_ds, val_ds, test_ds = random_split(dataset, [50000, 10000, 10000])\n",
    "\n",
    "# Define data loader\n",
    "batch_size = 1500\n",
    "train_dl = DataLoader(train_ds, batch_size, shuffle=True)\n",
    "val_dl = DataLoader(val_ds, batch_size)\n",
    "test_dl = DataLoader(test_ds, batch_size)"
   ]
  },
  {
   "cell_type": "code",
   "execution_count": 4,
   "id": "3ade589e-b674-47ea-ae8e-bf215ad338f3",
   "metadata": {},
   "outputs": [],
   "source": [
    "# Spectral Regression model with a pruning method\n",
    "config = {'base_grad' : False,\n",
    "         'start_grad' : True,\n",
    "         'end_grad' : True,\n",
    "         'bias': False}\n",
    "\n",
    "class PruningRegression(nn.Module):\n",
    "    def __init__(self):\n",
    "        super().__init__()\n",
    "        self.spectralin = Spectral(1, 20, **config)\n",
    "        self.spectral1 = Spectral(20, 20, **config)\n",
    "        self.spectral2 = Spectral(20, 20, **config)\n",
    "        self.spectralout = Spectral(20, 1, **config)\n",
    "    \n",
    "    def forward(self,x):\n",
    "        out = self.spectralin(x)  # Imput: first linear transformation\n",
    "        out = self.spectral1(out) # Linear transformation\n",
    "        out = F.elu(out)   # Non linear filter\n",
    "        out = self.spectral2(out) # Linear transformation\n",
    "        out = F.elu(out)   # Non linear filter\n",
    "        out = self.spectralout(out)  # Last linear transformation: output\n",
    "        return out\n",
    "    \n",
    "    def training_step(self, batch):\n",
    "        x, y = batch \n",
    "        out = self(x)                  # Generate predictions\n",
    "        loss = F.mse_loss(out, y) # Calculate loss\n",
    "        return loss\n",
    "    \n",
    "    def validation_step(self, batch):\n",
    "        x, y= batch \n",
    "        out = self(x)                    # Generate predictions\n",
    "        loss = F.mse_loss(out, y)   # Calculate loss\n",
    "        return {'val_loss': loss}\n",
    "        \n",
    "    def validation_epoch_end(self, outputs):\n",
    "        batch_losses = [x['val_loss'] for x in outputs]\n",
    "        epoch_loss = torch.stack(batch_losses).mean()   # Combine losses\n",
    "        return {'val_loss': epoch_loss.item()}\n",
    "    \n",
    "    def epoch_end(self, epoch, result):\n",
    "        print(\"Epoch [{}], val_loss: {:.6f}\".format(epoch, result['val_loss']))\n",
    "        \n",
    "    # This method act directly on this class\n",
    "    def pruning(self, \n",
    "                perc: float, \n",
    "                start_grad: bool = False, \n",
    "                end_grad: bool = False, \n",
    "                base_grad: bool = True):\n",
    "        \n",
    "        self.spectralin.pruning_diag(perc, start_grad, end_grad, base_grad)\n",
    "        self.spectral1.pruning_diag(perc, start_grad, end_grad, base_grad)\n",
    "        self.spectral2.pruning_diag(perc, start_grad, end_grad, base_grad)\n",
    "        self.spectralout.pruning_diag(perc, start_grad, end_grad, base_grad)\n",
    "    \n",
    "    # This method create new layers\n",
    "    def pruning_new(self,\n",
    "                    perc: float,\n",
    "                    start_grad: bool = False, \n",
    "                    end_grad: bool = False, \n",
    "                    base_grad: bool = True):\n",
    "        layer = []\n",
    "        layer.append(self.spectralin.pruning_diag_new(perc, start_grad, end_grad, base_grad))\n",
    "        layer.append(self.spectral1.pruning_diag_new(perc, start_grad, end_grad, base_grad))\n",
    "        layer.append(self.spectral2.pruning_diag_new(perc, start_grad, end_grad, base_grad))\n",
    "        layer.append(self.spectralout.pruning_diag_new(perc, start_grad, end_grad, base_grad))\n",
    "        \n",
    "        return layer\n",
    "                   \n",
    "        \n",
    "        \n",
    "pruning_model = PruningRegression()"
   ]
  },
  {
   "cell_type": "code",
   "execution_count": 5,
   "id": "aa44de28-4add-40c9-bb0d-ea6740178652",
   "metadata": {},
   "outputs": [],
   "source": [
    "config = {'start_grad' : False,\n",
    "         'end_grad' : True,\n",
    "         'base_grad' : True}\n",
    "\n",
    "class PruningRegressionNew(PruningRegression):\n",
    "    def __init__(self, perc):\n",
    "        super(PruningRegression, self).__init__()\n",
    "        layer = pruning_model.pruning_new(perc, **config)\n",
    "        self.spectralin = layer[0]\n",
    "        self.spectral1 = layer[1]\n",
    "        self.spectral2 = layer[2]\n",
    "        self.spectralout = layer[3]\n",
    "        "
   ]
  },
  {
   "cell_type": "code",
   "execution_count": 6,
   "id": "cf7319eb-2384-43b4-b940-36a3d93d5343",
   "metadata": {},
   "outputs": [],
   "source": [
    "def evaluate(model, val_loader):\n",
    "    outputs = [model.validation_step(batch) for batch in val_loader]\n",
    "    return model.validation_epoch_end(outputs)\n",
    "\n",
    "def fit(epochs, lr, model, train_loader, val_loader, opt_func=torch.optim.SGD):\n",
    "    optimizer = opt_func(model.parameters(), lr)\n",
    "    history = [] # for recording epoch-wise results\n",
    "    #es = EarlyStopping(patience=5) # stop with patience 5\n",
    "    \n",
    "    for epoch in range(epochs):\n",
    "        \n",
    "        # Training Phase \n",
    "        for batch in train_loader:\n",
    "            loss = model.training_step(batch)\n",
    "            loss.backward()\n",
    "            optimizer.step()\n",
    "            optimizer.zero_grad()\n",
    "        \n",
    "        # Validation phase\n",
    "        result = evaluate(model, val_loader)\n",
    "        model.epoch_end(epoch, result)\n",
    "        history.append(result)\n",
    "        \n",
    "        # Early stopping\n",
    "        #if es.step(loss):\n",
    "        #        break  \n",
    "\n",
    "    return history"
   ]
  },
  {
   "cell_type": "code",
   "execution_count": 7,
   "id": "97f6ce3a-7b79-4c0d-8c10-ed48c415221a",
   "metadata": {},
   "outputs": [
    {
     "name": "stdout",
     "output_type": "stream",
     "text": [
      "Epoch [0], val_loss: 0.028704\n",
      "Epoch [1], val_loss: 0.016546\n",
      "Epoch [2], val_loss: 0.015727\n",
      "Epoch [3], val_loss: 0.015181\n",
      "Epoch [4], val_loss: 0.014663\n",
      "Epoch [5], val_loss: 0.014259\n",
      "Epoch [6], val_loss: 0.013854\n",
      "Epoch [7], val_loss: 0.013522\n",
      "Epoch [8], val_loss: 0.013236\n",
      "Epoch [9], val_loss: 0.012913\n",
      "Epoch [10], val_loss: 0.011488\n",
      "Epoch [11], val_loss: 0.000684\n",
      "Epoch [12], val_loss: 0.000508\n",
      "Epoch [13], val_loss: 0.000427\n",
      "Epoch [14], val_loss: 0.000406\n",
      "Epoch [15], val_loss: 0.000389\n",
      "Epoch [16], val_loss: 0.000368\n",
      "Epoch [17], val_loss: 0.000357\n",
      "Epoch [18], val_loss: 0.000340\n",
      "Epoch [19], val_loss: 0.000325\n"
     ]
    }
   ],
   "source": [
    "args = {'lr': 0.01,\n",
    "       'model': pruning_model,\n",
    "       'train_loader': train_dl,\n",
    "       'val_loader': val_dl,\n",
    "       'opt_func': torch.optim.Adam}\n",
    "\n",
    "history = fit(20, **args)"
   ]
  },
  {
   "cell_type": "code",
   "execution_count": 8,
   "id": "727c8b40-6d02-40f3-ba00-dbfcdb201b60",
   "metadata": {},
   "outputs": [],
   "source": [
    "args = {'start_grad': False,\n",
    "       'end_grad': False,\n",
    "       'base_grad': True,}\n",
    "\n",
    "model1 = PruningRegressionNew(perc=25)\n"
   ]
  },
  {
   "cell_type": "code",
   "execution_count": 9,
   "id": "6c39732e-334e-42e8-8204-3571121a7efe",
   "metadata": {},
   "outputs": [
    {
     "name": "stdout",
     "output_type": "stream",
     "text": [
      "Epoch [0], val_loss: 0.000602\n",
      "Epoch [1], val_loss: 0.000507\n",
      "Epoch [2], val_loss: 0.000428\n",
      "Epoch [3], val_loss: 0.000401\n",
      "Epoch [4], val_loss: 0.000378\n",
      "Epoch [5], val_loss: 0.000351\n",
      "Epoch [6], val_loss: 0.000338\n",
      "Epoch [7], val_loss: 0.000324\n",
      "Epoch [8], val_loss: 0.000313\n",
      "Epoch [9], val_loss: 0.000304\n",
      "Epoch [10], val_loss: 0.000293\n",
      "Epoch [11], val_loss: 0.000284\n",
      "Epoch [12], val_loss: 0.000310\n",
      "Epoch [13], val_loss: 0.000274\n",
      "Epoch [14], val_loss: 0.000282\n",
      "Epoch [15], val_loss: 0.000259\n",
      "Epoch [16], val_loss: 0.000267\n",
      "Epoch [17], val_loss: 0.000243\n",
      "Epoch [18], val_loss: 0.000240\n",
      "Epoch [19], val_loss: 0.000265\n"
     ]
    }
   ],
   "source": [
    "args = {'lr': 0.01,\n",
    "       'model': model1,\n",
    "       'train_loader': train_dl,\n",
    "       'val_loader': val_dl,\n",
    "       'opt_func': torch.optim.Adam}\n",
    "\n",
    "history1 = fit(20, **args)"
   ]
  },
  {
   "cell_type": "code",
   "execution_count": 10,
   "id": "37e5dd59-aee8-4180-a929-d0e61053d5ee",
   "metadata": {},
   "outputs": [],
   "source": [
    "args = {'start_grad': False,\n",
    "       'end_grad': False,\n",
    "       'base_grad': True,}\n",
    "\n",
    "model2 = PruningRegressionNew(perc=50)\n",
    "\n"
   ]
  },
  {
   "cell_type": "code",
   "execution_count": 11,
   "id": "6fbe02ca-cf6c-477e-a3da-197985d0a294",
   "metadata": {},
   "outputs": [
    {
     "name": "stdout",
     "output_type": "stream",
     "text": [
      "Epoch [0], val_loss: 0.002356\n",
      "Epoch [1], val_loss: 0.000548\n",
      "Epoch [2], val_loss: 0.000460\n",
      "Epoch [3], val_loss: 0.000407\n",
      "Epoch [4], val_loss: 0.000370\n",
      "Epoch [5], val_loss: 0.000355\n",
      "Epoch [6], val_loss: 0.000343\n",
      "Epoch [7], val_loss: 0.000329\n",
      "Epoch [8], val_loss: 0.000331\n",
      "Epoch [9], val_loss: 0.000308\n",
      "Epoch [10], val_loss: 0.000295\n",
      "Epoch [11], val_loss: 0.000294\n",
      "Epoch [12], val_loss: 0.000278\n",
      "Epoch [13], val_loss: 0.000277\n",
      "Epoch [14], val_loss: 0.000261\n",
      "Epoch [15], val_loss: 0.000257\n",
      "Epoch [16], val_loss: 0.000256\n",
      "Epoch [17], val_loss: 0.000263\n",
      "Epoch [18], val_loss: 0.000265\n",
      "Epoch [19], val_loss: 0.000237\n"
     ]
    }
   ],
   "source": [
    "args = {'lr': 0.01,\n",
    "       'model': model2,\n",
    "       'train_loader': train_dl,\n",
    "       'val_loader': val_dl,\n",
    "       'opt_func': torch.optim.Adam}\n",
    "\n",
    "history2 = fit(20, **args)"
   ]
  },
  {
   "cell_type": "code",
   "execution_count": 12,
   "id": "355433cf-051c-4076-97a9-cf056990aa97",
   "metadata": {},
   "outputs": [],
   "source": [
    "args = {'start_grad': False,\n",
    "       'end_grad': False,\n",
    "       'base_grad': True,}\n",
    "\n",
    "model3 = PruningRegressionNew(perc=75)\n",
    "\n"
   ]
  },
  {
   "cell_type": "code",
   "execution_count": 13,
   "id": "6dc0252f-da65-46b7-9299-0d72a858f29f",
   "metadata": {},
   "outputs": [
    {
     "name": "stdout",
     "output_type": "stream",
     "text": [
      "Epoch [0], val_loss: 0.016113\n",
      "Epoch [1], val_loss: 0.012118\n",
      "Epoch [2], val_loss: 0.006073\n",
      "Epoch [3], val_loss: 0.000374\n",
      "Epoch [4], val_loss: 0.000324\n",
      "Epoch [5], val_loss: 0.000304\n",
      "Epoch [6], val_loss: 0.000288\n",
      "Epoch [7], val_loss: 0.000282\n",
      "Epoch [8], val_loss: 0.000277\n",
      "Epoch [9], val_loss: 0.000274\n",
      "Epoch [10], val_loss: 0.000271\n",
      "Epoch [11], val_loss: 0.000268\n",
      "Epoch [12], val_loss: 0.000266\n",
      "Epoch [13], val_loss: 0.000262\n",
      "Epoch [14], val_loss: 0.000259\n",
      "Epoch [15], val_loss: 0.000258\n",
      "Epoch [16], val_loss: 0.000253\n",
      "Epoch [17], val_loss: 0.000250\n",
      "Epoch [18], val_loss: 0.000250\n",
      "Epoch [19], val_loss: 0.000245\n"
     ]
    }
   ],
   "source": [
    "args = {'lr': 0.01,\n",
    "       'model': model3,\n",
    "       'train_loader': train_dl,\n",
    "       'val_loader': val_dl,\n",
    "       'opt_func': torch.optim.Adam}\n",
    "\n",
    "history3 = fit(20, **args)"
   ]
  },
  {
   "cell_type": "code",
   "execution_count": 14,
   "id": "17dbbea7-bd6b-4b12-95ef-cfb81eefa54a",
   "metadata": {},
   "outputs": [],
   "source": [
    "losses = [result['val_loss'] for result in history]\n",
    "losses1 = [result['val_loss'] for result in history1]\n",
    "losses2 = [result['val_loss'] for result in history2]\n",
    "losses3 = [result['val_loss'] for result in history3]"
   ]
  },
  {
   "cell_type": "code",
   "execution_count": 18,
   "id": "6d393ee4-d26a-4d0e-b2a9-c9b3e4cffe99",
   "metadata": {},
   "outputs": [
    {
     "data": {
      "image/png": "[encoded data removed]",
      "text/plain": [
       "<Figure size 432x288 with 1 Axes>"
      ]
     },
     "metadata": {
      "needs_background": "light"
     },
     "output_type": "display_data"
    }
   ],
   "source": [
    "plt.plot(losses, '-x', label='non pruned')\n",
    "plt.plot(losses1, '-x', label='pruned 25%')\n",
    "plt.plot(losses2, '-x', label='pruned 50%')\n",
    "plt.plot(losses3, '-x', label='pruned 75%')\n",
    "plt.xlabel('epoch')\n",
    "plt.ylabel('loss')\n",
    "plt.legend()\n",
    "\n",
    "plt.show()"
   ]
  },
  {
   "cell_type": "code",
   "execution_count": 16,
   "id": "6958c6c2-9b3f-4ebb-acff-3145a1524c0e",
   "metadata": {},
   "outputs": [
    {
     "name": "stdout",
     "output_type": "stream",
     "text": [
      "Results obtained on the test dataset...\n",
      "Loss for non pruned model: 1.02 \n",
      "Loss for model pruned 25%: 0.584 \n",
      "Loss for model pruned 50%: 0.7 \n",
      "Loss for model pruned 75%: 0.00024 \n"
     ]
    }
   ],
   "source": [
    "ris_non_pruned = evaluate(pruning_model, test_dl)\n",
    "ris_pruned1 = evaluate(model1, test_dl)\n",
    "ris_pruned2 = evaluate(model2, test_dl)\n",
    "ris_pruned3 = evaluate(model3, test_dl)\n",
    "\n",
    "print(\"Results obtained on the test dataset...\")\n",
    "print(\"Loss for non pruned model: {:.3} \".format(ris_non_pruned['val_loss']))\n",
    "print(\"Loss for model pruned 25%: {:.3} \".format(ris_pruned1['val_loss']))\n",
    "print(\"Loss for model pruned 50%: {:.3} \".format(ris_pruned2['val_loss']))\n",
    "print(\"Loss for model pruned 75%: {:.3} \".format(ris_pruned3['val_loss']))\n"
   ]
  },
  {
   "cell_type": "code",
   "execution_count": null,
   "id": "371ca863-a32c-4ea7-8149-8c6bd28e194d",
   "metadata": {},
   "outputs": [],
   "source": []
  }
 ],
 "metadata": {
  "kernelspec": {
   "display_name": "Python 3",
   "language": "python",
   "name": "python3"
  },
  "language_info": {
   "codemirror_mode": {
    "name": "ipython",
    "version": 3
   },
   "file_extension": ".py",
   "mimetype": "text/x-python",
   "name": "python",
   "nbconvert_exporter": "python",
   "pygments_lexer": "ipython3",
   "version": "3.8.5"
  }
 },
 "nbformat": 4,
 "nbformat_minor": 5
}
