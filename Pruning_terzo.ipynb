{
 "cells": [
  {
   "cell_type": "markdown",
   "id": "ac4ec876-2231-484a-b912-b2bd8235e622",
   "metadata": {},
   "source": [
    "Applicare le stesse tecniche dell'articolo: per il classico addestro poi pruning poi predico senza riaddestrare, mentre per lo spectral addestro autovalori poi pruning poi riaddestro tutti i modelli pruned"
   ]
  },
  {
   "cell_type": "code",
   "execution_count": 1,
   "id": "8aa72d36-60e9-4d78-96e6-7ce57f13a3d5",
   "metadata": {},
   "outputs": [],
   "source": [
    "import numpy as np\n",
    "import torch\n",
    "import torch.nn as nn\n",
    "import torch.nn.functional as F\n",
    "from torch.nn.parameter import Parameter\n",
    "import matplotlib.pyplot as plt\n",
    "from Spectral_Layer import Spectral\n",
    "from tqdm import trange"
   ]
  },
  {
   "cell_type": "code",
   "execution_count": 2,
   "id": "57ce2f77-ebe1-45f5-9243-a80d11b598c9",
   "metadata": {},
   "outputs": [
    {
     "data": {
      "image/png": "[encoded data removed]",
      "text/plain": [
       "<Figure size 576x432 with 1 Axes>"
      ]
     },
     "metadata": {
      "needs_background": "light"
     },
     "output_type": "display_data"
    }
   ],
   "source": [
    "alpha = 2. \n",
    "sigma = 0.01\n",
    "size = 70000\n",
    "\n",
    "x = np.linspace(0, 1, size)\n",
    "z = np.random.normal(0, sigma, size)  # noise\n",
    "t = x**alpha\n",
    "y = t + z   # add noise\n",
    "\n",
    "X = []\n",
    "Y = []\n",
    "for i in range(size):\n",
    "    X.append([x[i]])\n",
    "    Y.append([y[i]])\n",
    "    \n",
    "X = np.array(X)\n",
    "Y = np.array(Y)\n",
    "\n",
    "plt.figure (figsize = (8, 6))\n",
    "plt.plot(X, Y, marker='.', linestyle = '', label='data without noise', markersize=0.5)\n",
    "plt.plot(x, t, marker='.', linestyle='', color='red', label='data with noise', markersize=0.5)\n",
    "plt.title('Dataset')\n",
    "plt.legend(markerscale=10.)\n",
    "plt.xlabel('x-label')\n",
    "plt.ylabel('y-label')\n",
    "plt.show()"
   ]
  },
  {
   "cell_type": "code",
   "execution_count": 3,
   "id": "d76fbc92-c0da-46b9-80a6-935ca723b8d0",
   "metadata": {},
   "outputs": [],
   "source": [
    "from torch.utils.data import TensorDataset\n",
    "from torch.utils.data import DataLoader\n",
    "from torch.utils.data import random_split\n",
    "\n",
    "X = torch.from_numpy(X)\n",
    "Y = torch.from_numpy(Y)\n",
    "\n",
    "# Define dataset\n",
    "dataset = TensorDataset(X, Y)\n",
    "train_ds, val_ds, test_ds = random_split(dataset, [50000, 10000, 10000])\n",
    "\n",
    "# Define data loader\n",
    "batch_size = 1500\n",
    "train_dl = DataLoader(train_ds, batch_size, shuffle=True)\n",
    "val_dl = DataLoader(val_ds, batch_size)\n",
    "test_dl = DataLoader(test_ds, batch_size)"
   ]
  },
  {
   "cell_type": "code",
   "execution_count": 4,
   "id": "a92f5313-cb80-49f9-a90d-c976822af9b7",
   "metadata": {},
   "outputs": [],
   "source": [
    "# Regression model for spectral pruning\n",
    "config = {'base_grad' : False,\n",
    "         'start_grad' : True,\n",
    "         'end_grad' : True,\n",
    "         'bias': False}\n",
    "\n",
    "class PruningRegressionSpectral(nn.Module):\n",
    "    def __init__(self):\n",
    "        super().__init__()\n",
    "        self.spectralin = Spectral(1, 200, **config)\n",
    "        self.spectral1 = Spectral(200, 200, **config)\n",
    "        self.spectralout = Spectral(200, 1, **config)\n",
    "    \n",
    "    def forward(self,x):\n",
    "        out = self.spectralin(x)  # Imput: first linear transformation\n",
    "        out = self.spectral1(out) # Linear transformation\n",
    "        out = F.elu(out)   # Non linear filter\n",
    "        out = self.spectralout(out)  # Last linear transformation: output\n",
    "        return out\n",
    "    \n",
    "    def training_step(self, batch):\n",
    "        x, y = batch \n",
    "        out = self(x)                  # Generate predictions\n",
    "        loss = F.mse_loss(out, y) # Calculate loss\n",
    "        return loss\n",
    "    \n",
    "    def validation_step(self, batch):\n",
    "        x, y= batch \n",
    "        out = self(x)                    # Generate predictions\n",
    "        loss = F.mse_loss(out, y)   # Calculate loss\n",
    "        return {'val_loss': loss}\n",
    "        \n",
    "    def validation_epoch_end(self, outputs):\n",
    "        batch_losses = [x['val_loss'] for x in outputs]\n",
    "        epoch_loss = torch.stack(batch_losses).mean()   # Combine losses\n",
    "        return {'val_loss': epoch_loss.item()}\n",
    "    \n",
    "    def epoch_end(self, epoch, result):\n",
    "        print(\"Epoch [{}], val_loss: {:.6f}\".format(epoch, result['val_loss']))\n",
    "        \n",
    "   \n",
    "    # This method create new spectral model\n",
    "    def pruning_spectral_new(self,\n",
    "                    perc: float,\n",
    "                    start_grad: bool = False, \n",
    "                    end_grad: bool = False, \n",
    "                    base_grad: bool = True):\n",
    "        layer = []\n",
    "        layer.append(self.spectralin.pruning_diag_new(perc, start_grad, end_grad, base_grad))\n",
    "        layer.append(self.spectral1.pruning_diag_new(perc, start_grad, end_grad, base_grad))\n",
    "        layer.append(self.spectralout.pruning_diag_new(perc, start_grad, end_grad, base_grad))\n",
    "        \n",
    "        return layer\n",
    "   \n",
    "        \n",
    "pruning_model_spectral = PruningRegressionSpectral()"
   ]
  },
  {
   "cell_type": "code",
   "execution_count": 5,
   "id": "cee36f63-72b3-4470-92ab-ba26e99597dc",
   "metadata": {},
   "outputs": [],
   "source": [
    "# Regression model for spectral prunin\n",
    "config = {'base_grad' : True,\n",
    "         'start_grad' : True,\n",
    "         'end_grad' : True,\n",
    "         'bias': False}\n",
    "\n",
    "class PruningRegressionClassical(nn.Module):\n",
    "    def __init__(self):\n",
    "        super().__init__()\n",
    "        self.spectralin = Spectral(1, 200, **config)\n",
    "        self.spectral1 = Spectral(200, 200, **config)\n",
    "        self.spectralout = Spectral(200, 1, **config)\n",
    "    \n",
    "    def forward(self,x):\n",
    "        out = self.spectralin(x)  # Imput: first linear transformation\n",
    "        out = self.spectral1(out) # Linear transformation\n",
    "        out = F.elu(out)   # Non linear filter\n",
    "        out = self.spectralout(out)  # Last linear transformation: output\n",
    "        return out\n",
    "    \n",
    "    def training_step(self, batch):\n",
    "        x, y = batch \n",
    "        out = self(x)                  # Generate predictions\n",
    "        loss = F.mse_loss(out, y) # Calculate loss\n",
    "        return loss\n",
    "    \n",
    "    def validation_step(self, batch):\n",
    "        x, y= batch \n",
    "        out = self(x)                    # Generate predictions\n",
    "        loss = F.mse_loss(out, y)   # Calculate loss\n",
    "        return {'val_loss': loss}\n",
    "        \n",
    "    def validation_epoch_end(self, outputs):\n",
    "        batch_losses = [x['val_loss'] for x in outputs]\n",
    "        epoch_loss = torch.stack(batch_losses).mean()   # Combine losses\n",
    "        return {'val_loss': epoch_loss.item()}\n",
    "    \n",
    "    def epoch_end(self, epoch, result):\n",
    "        print(\"Epoch [{}], val_loss: {:.6f}\".format(epoch, result['val_loss']))\n",
    "        \n",
    "    \n",
    "    # This method create new classical model\n",
    "    def pruning_calssical_new(self,\n",
    "                    perc: float,\n",
    "                    grad: bool = True):\n",
    "        \n",
    "        layer = []\n",
    "        layer.append(self.spectralin.pruning_direct_space_new(perc=perc, grad=grad))\n",
    "        layer.append(self.spectral1.pruning_direct_space_new(perc=perc, grad=grad))\n",
    "        layer.append(self.spectralout.pruning_direct_space_new(perc=perc, grad=grad))\n",
    "        \n",
    "        return layer\n",
    "        \n",
    "pruning_model_classical = PruningRegressionClassical()"
   ]
  },
  {
   "cell_type": "code",
   "execution_count": 6,
   "id": "8fe5e480-ab00-46c4-8708-a2c951925560",
   "metadata": {},
   "outputs": [],
   "source": [
    "# New model pruned in spectral space\n",
    "config_s = {'start_grad' : True,\n",
    "         'end_grad' : True,\n",
    "         'base_grad' : True}\n",
    "\n",
    "class PruningSpectralNew(PruningRegressionSpectral):\n",
    "    def __init__(self, per):\n",
    "        super(PruningRegressionSpectral, self).__init__()\n",
    "        layer = pruning_model_spectral.pruning_spectral_new(per, **config_s)\n",
    "        self.spectralin = layer[0]\n",
    "        self.spectral1 = layer[1]\n",
    "        self.spectralout = layer[2]\n",
    "        \n",
    "    def forward(self,x):\n",
    "        out = self.spectralin(x)  # Imput: first linear transformation\n",
    "        out = self.spectral1(out) # Linear transformation\n",
    "        out = F.elu(out)   # Non linear filter\n",
    "        out = self.spectralout(out)  # Last linear transformation: output\n",
    "        return out\n",
    "\n",
    "        \n",
    "# New model pruned in direct space\n",
    "config_c = {'grad': False}\n",
    "        \n",
    "class PruningClassicalNew(PruningRegressionClassical):\n",
    "    def __init__(self, per):\n",
    "        super(PruningRegressionClassical, self).__init__()\n",
    "        layer = pruning_model_classical.pruning_calssical_new(per, **config_c)\n",
    "        self.spectralin = layer[0]\n",
    "        self.spectral1 = layer[1]\n",
    "        self.spectralout = layer[2]\n",
    "        \n",
    "    def forward(self,x):\n",
    "        out = self.spectralin(x)  # Imput: first linear transformation\n",
    "        out = self.spectral1(out) # Linear transformation\n",
    "        out = F.elu(out)   # Non linear filter\n",
    "        out = self.spectralout(out)  # Last linear transformation: output\n",
    "        return out\n",
    "        \n",
    "        "
   ]
  },
  {
   "cell_type": "code",
   "execution_count": 7,
   "id": "4802d1a0-7838-4191-886b-3441cd945e7f",
   "metadata": {},
   "outputs": [],
   "source": [
    "def evaluate(model, val_loader):\n",
    "    outputs = [model.validation_step(batch) for batch in val_loader]\n",
    "    return model.validation_epoch_end(outputs)\n",
    "\n",
    "def fit(epochs, lr, model, train_loader, val_loader, opt_func=torch.optim.SGD):\n",
    "    optimizer = opt_func(model.parameters(), lr)\n",
    "    history = [] # for recording epoch-wise results\n",
    "    #es = EarlyStopping(patience=5) # stop with patience 5\n",
    "    \n",
    "    with trange(epochs, desc='Progress', unit='epochs') as tepoch:\n",
    "        for epoch in tepoch:\n",
    "            \n",
    "            # Training Phase \n",
    "            for batch in train_loader:\n",
    "                loss = model.training_step(batch)\n",
    "                loss.backward()\n",
    "                optimizer.step()\n",
    "                optimizer.zero_grad()\n",
    "            \n",
    "            # Validation phase\n",
    "            result = evaluate(model, val_loader)\n",
    "            history.append(result)\n",
    "            \n",
    "            tepoch.set_postfix(loss=loss.item())\n",
    "        \n",
    "        # Print final result\n",
    "        model.epoch_end(epoch, result)\n",
    "            \n",
    "            # Early stopping\n",
    "            #if es.step(loss):\n",
    "            #        break  \n",
    "\n",
    "    return history, result"
   ]
  },
  {
   "cell_type": "code",
   "execution_count": 8,
   "id": "2528754e-694e-49c8-ba1a-14a08984aa3b",
   "metadata": {},
   "outputs": [
    {
     "name": "stderr",
     "output_type": "stream",
     "text": [
      "Progress: 100%|██████████| 20/20 [00:16<00:00,  1.22epochs/s, loss=0.000373]\n",
      "Progress:   0%|          | 0/20 [00:00<?, ?epochs/s]"
     ]
    },
    {
     "name": "stdout",
     "output_type": "stream",
     "text": [
      "Epoch [19], val_loss: 0.000326\n"
     ]
    },
    {
     "name": "stderr",
     "output_type": "stream",
     "text": [
      "Progress: 100%|██████████| 20/20 [00:16<00:00,  1.25epochs/s, loss=0.000264]"
     ]
    },
    {
     "name": "stdout",
     "output_type": "stream",
     "text": [
      "Epoch [19], val_loss: 0.000252\n"
     ]
    },
    {
     "name": "stderr",
     "output_type": "stream",
     "text": [
      "\n"
     ]
    }
   ],
   "source": [
    "# Pre train of classical principal model \n",
    "args = {'lr': 0.01,\n",
    "       'model': pruning_model_classical,\n",
    "       'train_loader': train_dl,\n",
    "       'val_loader': val_dl,\n",
    "       'opt_func': torch.optim.Adam}\n",
    "\n",
    "history_principal_classical, result_principal_classical = fit(20, **args)\n",
    "\n",
    "# Pre train of spectral principal model \n",
    "args = {'lr': 0.01,\n",
    "       'model': pruning_model_spectral,\n",
    "       'train_loader': train_dl,\n",
    "       'val_loader': val_dl,\n",
    "       'opt_func': torch.optim.Adam}\n",
    "\n",
    "history_principal_spectral, result_principal_spectral = fit(20, **args)"
   ]
  },
  {
   "cell_type": "code",
   "execution_count": 9,
   "id": "09b1f0de-e7ca-4e1f-a5dd-101a91b9b1e8",
   "metadata": {},
   "outputs": [],
   "source": [
    "# Prepare pruned model \n",
    "\n",
    "cuts = [10, 20, 30, 40, 50, 60, 70, 80, 90]\n",
    "model_s = []\n",
    "model_c = []\n",
    "for p in cuts:\n",
    "    model_s.append(PruningSpectralNew(per=p))\n",
    "    model_c.append(PruningClassicalNew(per=p))\n",
    "\n",
    "\n"
   ]
  },
  {
   "cell_type": "code",
   "execution_count": 10,
   "id": "fb61c3b0-c0f1-4e1f-8920-6a2be70a182b",
   "metadata": {},
   "outputs": [
    {
     "name": "stderr",
     "output_type": "stream",
     "text": [
      "Progress: 100%|██████████| 20/20 [00:16<00:00,  1.24epochs/s, loss=0.000264]\n",
      "Progress:   0%|          | 0/20 [00:00<?, ?epochs/s]"
     ]
    },
    {
     "name": "stdout",
     "output_type": "stream",
     "text": [
      "Epoch [19], val_loss: 0.000255\n"
     ]
    },
    {
     "name": "stderr",
     "output_type": "stream",
     "text": [
      "Progress: 100%|██████████| 20/20 [00:16<00:00,  1.25epochs/s, loss=0.000228]\n",
      "Progress:   0%|          | 0/20 [00:00<?, ?epochs/s]"
     ]
    },
    {
     "name": "stdout",
     "output_type": "stream",
     "text": [
      "Epoch [19], val_loss: 0.000230\n"
     ]
    },
    {
     "name": "stderr",
     "output_type": "stream",
     "text": [
      "Progress: 100%|██████████| 20/20 [00:16<00:00,  1.25epochs/s, loss=0.000198]\n",
      "Progress:   0%|          | 0/20 [00:00<?, ?epochs/s]"
     ]
    },
    {
     "name": "stdout",
     "output_type": "stream",
     "text": [
      "Epoch [19], val_loss: 0.000206\n"
     ]
    },
    {
     "name": "stderr",
     "output_type": "stream",
     "text": [
      "Progress: 100%|██████████| 20/20 [00:16<00:00,  1.25epochs/s, loss=0.000194]\n",
      "Progress:   0%|          | 0/20 [00:00<?, ?epochs/s]"
     ]
    },
    {
     "name": "stdout",
     "output_type": "stream",
     "text": [
      "Epoch [19], val_loss: 0.000195\n"
     ]
    },
    {
     "name": "stderr",
     "output_type": "stream",
     "text": [
      "Progress: 100%|██████████| 20/20 [00:15<00:00,  1.25epochs/s, loss=0.000174]\n",
      "Progress:   0%|          | 0/20 [00:00<?, ?epochs/s]"
     ]
    },
    {
     "name": "stdout",
     "output_type": "stream",
     "text": [
      "Epoch [19], val_loss: 0.000191\n"
     ]
    },
    {
     "name": "stderr",
     "output_type": "stream",
     "text": [
      "Progress: 100%|██████████| 20/20 [00:16<00:00,  1.24epochs/s, loss=0.000203]\n",
      "Progress:   0%|          | 0/20 [00:00<?, ?epochs/s]"
     ]
    },
    {
     "name": "stdout",
     "output_type": "stream",
     "text": [
      "Epoch [19], val_loss: 0.000192\n"
     ]
    },
    {
     "name": "stderr",
     "output_type": "stream",
     "text": [
      "Progress: 100%|██████████| 20/20 [00:16<00:00,  1.24epochs/s, loss=0.000228]\n",
      "Progress:   0%|          | 0/20 [00:00<?, ?epochs/s]"
     ]
    },
    {
     "name": "stdout",
     "output_type": "stream",
     "text": [
      "Epoch [19], val_loss: 0.000191\n"
     ]
    },
    {
     "name": "stderr",
     "output_type": "stream",
     "text": [
      "Progress: 100%|██████████| 20/20 [00:15<00:00,  1.26epochs/s, loss=0.00019] \n",
      "Progress:   0%|          | 0/20 [00:00<?, ?epochs/s]"
     ]
    },
    {
     "name": "stdout",
     "output_type": "stream",
     "text": [
      "Epoch [19], val_loss: 0.000178\n"
     ]
    },
    {
     "name": "stderr",
     "output_type": "stream",
     "text": [
      "Progress: 100%|██████████| 20/20 [00:15<00:00,  1.25epochs/s, loss=0.000454]"
     ]
    },
    {
     "name": "stdout",
     "output_type": "stream",
     "text": [
      "Epoch [19], val_loss: 0.000407\n"
     ]
    },
    {
     "name": "stderr",
     "output_type": "stream",
     "text": [
      "\n"
     ]
    }
   ],
   "source": [
    "# Train spectral pruned model\n",
    "history_s = []\n",
    "result_s = []\n",
    "for i in range(len(cuts)):\n",
    "    args_s = {'lr': 0.01,\n",
    "              'model': model_s[i],\n",
    "              'train_loader': train_dl,\n",
    "              'val_loader': val_dl,\n",
    "              'opt_func': torch.optim.Adam}\n",
    "    h, r = fit(20, **args_s)\n",
    "    history_s.append(h)\n",
    "    result_s.append(r)\n",
    "    "
   ]
  },
  {
   "cell_type": "code",
   "execution_count": 14,
   "id": "a59d8b33-bbf6-453c-9656-fec3f647c850",
   "metadata": {},
   "outputs": [
    {
     "data": {
      "image/png": "[encoded data removed]",
      "text/plain": [
       "<Figure size 432x288 with 1 Axes>"
      ]
     },
     "metadata": {
      "needs_background": "light"
     },
     "output_type": "display_data"
    }
   ],
   "source": [
    "# Prediction on test tadaset\n",
    "\n",
    "t_c = [evaluate(model_c[i], test_dl) for i in range(len(cuts))]\n",
    "t_s = [evaluate(model_s[i], test_dl) for i in range(len(cuts))]\n",
    "\n",
    "test_c = [t_c[i]['val_loss'] for i in range(len(cuts))]\n",
    "test_s = [t_s[i]['val_loss'] for i in range(len(cuts))]\n",
    "\n",
    "#cuts.reverse()\n",
    "\n",
    "plt.plot(cuts,test_s, '-x', label='Spectral Pruning')\n",
    "plt.plot(cuts,test_c, '-x', label='Classical Pruning')\n",
    "plt.xlabel('percentile')\n",
    "plt.ylabel('loss')\n",
    "plt.legend()\n",
    "\n",
    "plt.show()"
   ]
  },
  {
   "cell_type": "code",
   "execution_count": 12,
   "id": "b1a9b179-ffcf-4fc9-9afc-f607a95a62a0",
   "metadata": {},
   "outputs": [],
   "source": [
    "res_s = [result_s[i]['val_loss'] for i in range(len(result_s))]\n"
   ]
  },
  {
   "cell_type": "code",
   "execution_count": 13,
   "id": "5e802e13-2d3f-4006-bfde-ef68b00279ca",
   "metadata": {},
   "outputs": [
    {
     "data": {
      "image/png": "[encoded data removed]",
      "text/plain": [
       "<Figure size 432x288 with 1 Axes>"
      ]
     },
     "metadata": {
      "needs_background": "light"
     },
     "output_type": "display_data"
    }
   ],
   "source": [
    "plt.plot(cuts,res_s, '-x', label='Spectral Pruning')\n",
    "plt.plot(cuts,test_c, '-x', label='Classical Pruning')\n",
    "plt.xlabel('percentile')\n",
    "plt.ylabel('loss')\n",
    "plt.legend()\n",
    "\n",
    "plt.show()"
   ]
  },
  {
   "cell_type": "code",
   "execution_count": null,
   "id": "1e04800b-53e1-4115-809b-7305b4d35bc3",
   "metadata": {},
   "outputs": [],
   "source": []
  }
 ],
 "metadata": {
  "kernelspec": {
   "display_name": "Python 3",
   "language": "python",
   "name": "python3"
  },
  "language_info": {
   "codemirror_mode": {
    "name": "ipython",
    "version": 3
   },
   "file_extension": ".py",
   "mimetype": "text/x-python",
   "name": "python",
   "nbconvert_exporter": "python",
   "pygments_lexer": "ipython3",
   "version": "3.8.5"
  }
 },
 "nbformat": 4,
 "nbformat_minor": 5
}
