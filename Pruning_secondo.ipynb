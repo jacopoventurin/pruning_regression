{
 "cells": [
  {
   "cell_type": "markdown",
   "id": "7c36ca7d-7c28-476d-976e-130a9b13236f",
   "metadata": {},
   "source": [
    "Da implementare un framework per cui si vedono i vantaggi dello spectral prunin rispetto al pruning nello spazio diretto \n",
    "c'è quasi tutto, manca ancora un modulo per avere il modello nello spazio diretto col pruning dato un modello multilayer\n",
    "consiglio di modificare la funzione per il fit in modo che non stampi il risultato a\n"
   ]
  },
  {
   "cell_type": "code",
   "execution_count": 1,
   "id": "b9eb5b22-85d5-4372-a97f-32a8e59b2e5d",
   "metadata": {},
   "outputs": [],
   "source": [
    "import numpy as np\n",
    "import torch\n",
    "import torch.nn as nn\n",
    "import torch.nn.functional as F\n",
    "from torch.nn.parameter import Parameter\n",
    "import matplotlib.pyplot as plt\n",
    "from Spectral_Layer import Spectral\n",
    "from tqdm import trange"
   ]
  },
  {
   "cell_type": "code",
   "execution_count": 2,
   "id": "35f4540c-f03f-47b7-a502-112103e923e4",
   "metadata": {},
   "outputs": [
    {
     "data": {
      "image/png": "[encoded data removed]",
      "text/plain": [
       "<Figure size 576x432 with 1 Axes>"
      ]
     },
     "metadata": {
      "needs_background": "light"
     },
     "output_type": "display_data"
    }
   ],
   "source": [
    "alpha = 2. \n",
    "sigma = 0.01\n",
    "size = 70000\n",
    "\n",
    "x = np.linspace(0, 1, size)\n",
    "z = np.random.normal(0, sigma, size)  # noise\n",
    "t = x**alpha\n",
    "y = t + z   # add noise\n",
    "\n",
    "X = []\n",
    "Y = []\n",
    "for i in range(size):\n",
    "    X.append([x[i]])\n",
    "    Y.append([y[i]])\n",
    "    \n",
    "X = np.array(X)\n",
    "Y = np.array(Y)\n",
    "\n",
    "plt.figure (figsize = (8, 6))\n",
    "plt.plot(X, Y, marker='.', linestyle = '', label='data without noise', markersize=0.5)\n",
    "plt.plot(x, t, marker='.', linestyle='', color='red', label='data with noise', markersize=0.5)\n",
    "plt.title('Dataset')\n",
    "plt.legend(markerscale=10.)\n",
    "plt.xlabel('x-label')\n",
    "plt.ylabel('y-label')\n",
    "plt.show()"
   ]
  },
  {
   "cell_type": "code",
   "execution_count": 3,
   "id": "b736cf4f-c4c5-4700-a2a2-5bea40ee443e",
   "metadata": {},
   "outputs": [],
   "source": [
    "from torch.utils.data import TensorDataset\n",
    "from torch.utils.data import DataLoader\n",
    "from tcorch.utils.data import random_split\n",
    "\n",
    "X = torch.from_numpy(X)\n",
    "Y = torch.from_numpy(Y)\n",
    "\n",
    "# Define dataset\n",
    "dataset = TensorDataset(X, Y)\n",
    "train_ds, val_ds, test_ds = random_split(dataset, [50000, 10000, 10000])\n",
    "\n",
    "# Define data loader\n",
    "batch_size = 1500\n",
    "train_dl = DataLoader(train_ds, batch_size, shuffle=True)\n",
    "val_dl = DataLoader(val_ds, batch_size)\n",
    "test_dl = DataLoader(test_ds, batch_size)"
   ]
  },
  {
   "cell_type": "code",
   "execution_count": 4,
   "id": "1fde2334-5db8-47f5-9cd3-e4afa7b7bd60",
   "metadata": {},
   "outputs": [],
   "source": [
    "# Spectral Regression model with a pruning method\n",
    "config = {'base_grad' : False,\n",
    "         'start_grad' : True,\n",
    "         'end_grad' : True,\n",
    "         'bias': False}\n",
    "\n",
    "class PruningRegression(nn.Module):\n",
    "    def __init__(self):\n",
    "        super().__init__()\n",
    "        self.spectralin = Spectral(1, 20, **config)\n",
    "        self.spectral1 = Spectral(20, 20, **config)\n",
    "        self.spectral2 = Spectral(20, 20, **config)\n",
    "        self.spectralout = Spectral(20, 1, **config)\n",
    "    \n",
    "    def forward(self,x):\n",
    "        out = self.spectralin(x)  # Imput: first linear transformation\n",
    "        out = self.spectral1(out) # Linear transformation\n",
    "        out = F.elu(out)   # Non linear filter\n",
    "        out = self.spectral2(out) # Linear transformation\n",
    "        out = F.elu(out)   # Non linear filter\n",
    "        out = self.spectralout(out)  # Last linear transformation: output\n",
    "        return out\n",
    "    \n",
    "    def training_step(self, batch):\n",
    "        x, y = batch \n",
    "        out = self(x)                  # Generate predictions\n",
    "        loss = F.mse_loss(out, y) # Calculate loss\n",
    "        return loss\n",
    "    \n",
    "    def validation_step(self, batch):\n",
    "        x, y= batch \n",
    "        out = self(x)                    # Generate predictions\n",
    "        loss = F.mse_loss(out, y)   # Calculate loss\n",
    "        return {'val_loss': loss}\n",
    "        \n",
    "    def validation_epoch_end(self, outputs):\n",
    "        batch_losses = [x['val_loss'] for x in outputs]\n",
    "        epoch_loss = torch.stack(batch_losses).mean()   # Combine losses\n",
    "        return {'val_loss': epoch_loss.item()}\n",
    "    \n",
    "    def epoch_end(self, epoch, result):\n",
    "        print(\"Epoch [{}], val_loss: {:.6f}\".format(epoch, result['val_loss']))\n",
    "        \n",
    "    # This method act directly on this class\n",
    "    def pruning(self, \n",
    "                perc: float, \n",
    "                start_grad: bool = False, \n",
    "                end_grad: bool = False, \n",
    "                base_grad: bool = True):\n",
    "        \n",
    "        self.spectralin.pruning_diag(perc, start_grad, end_grad, base_grad)\n",
    "        self.spectral1.pruning_diag(perc, start_grad, end_grad, base_grad)\n",
    "        self.spectral2.pruning_diag(perc, start_grad, end_grad, base_grad)\n",
    "        self.spectralout.pruning_diag(perc, start_grad, end_grad, base_grad)\n",
    "    \n",
    "    # This method create new spectral model\n",
    "    def pruning_spectral_new(self,\n",
    "                    perc: float,\n",
    "                    start_grad: bool = False, \n",
    "                    end_grad: bool = False, \n",
    "                    base_grad: bool = True):\n",
    "        layer = []\n",
    "        layer.append(self.spectralin.pruning_diag_new(perc, start_grad, end_grad, base_grad))\n",
    "        layer.append(self.spectral1.pruning_diag_new(perc, start_grad, end_grad, base_grad))\n",
    "        layer.append(self.spectral2.pruning_diag_new(perc, start_grad, end_grad, base_grad))\n",
    "        layer.append(self.spectralout.pruning_diag_new(perc, start_grad, end_grad, base_grad))\n",
    "        \n",
    "        return layer\n",
    "                   \n",
    "    # This method create new classical model\n",
    "    def pruning_calssical_new(self,\n",
    "                    perc: float,\n",
    "                    grad: bool = True):\n",
    "        \n",
    "        layer = []\n",
    "        layer.append(self.spectralin.pruning_direct_space_new(perc=perc, grad=grad))\n",
    "        layer.append(self.spectral1.pruning_direct_space_new(perc=perc, grad=grad))\n",
    "        layer.append(self.spectral2.pruning_direct_space_new(perc=perc, grad=grad))\n",
    "        layer.append(self.spectralout.pruning_direct_space_new(perc=perc, grad=grad))\n",
    "        \n",
    "        return layer\n",
    "        \n",
    "pruning_model = PruningRegression()"
   ]
  },
  {
   "cell_type": "code",
   "execution_count": 5,
   "id": "f999028a-6f78-4506-b577-4201c8fc22c7",
   "metadata": {},
   "outputs": [],
   "source": [
    "# New model pruned in spectral space\n",
    "config_s = {'start_grad' : True,\n",
    "         'end_grad' : True,\n",
    "         'base_grad' : True}\n",
    "\n",
    "class PruningSpectralNew(PruningRegression):\n",
    "    def __init__(self, per):\n",
    "        super(PruningRegression, self).__init__()\n",
    "        layer = pruning_model.pruning_spectral_new(per, **config_s)\n",
    "        self.spectralin = layer[0]\n",
    "        self.spectral1 = layer[1]\n",
    "        self.spectral2 = layer[2]\n",
    "        self.spectralout = layer[3]\n",
    "\n",
    "        \n",
    "# New model pruned in direct space\n",
    "config_c = {'grad': True}\n",
    "        \n",
    "class PruningClassicalNew(PruningRegression):\n",
    "    def __init__(self, per):\n",
    "        super(PruningRegression, self).__init__()\n",
    "        layer = pruning_model.pruning_calssical_new(per, **config_c)\n",
    "        self.spectralin = layer[0]\n",
    "        self.spectral1 = layer[1]\n",
    "        self.spectral2 = layer[2]\n",
    "        self.spectralout = layer[3]\n",
    "        \n",
    "        "
   ]
  },
  {
   "cell_type": "code",
   "execution_count": 6,
   "id": "18ed74c3-4500-4cd5-a366-4087ee342e6f",
   "metadata": {},
   "outputs": [],
   "source": [
    "def evaluate(model, val_loader):\n",
    "    outputs = [model.validation_step(batch) for batch in val_loader]\n",
    "    return model.validation_epoch_end(outputs)\n",
    "\n",
    "def fit(epochs, lr, model, train_loader, val_loader, opt_func=torch.optim.SGD):\n",
    "    optimizer = opt_func(model.parameters(), lr)\n",
    "    history = [] # for recording epoch-wise results\n",
    "    #es = EarlyStopping(patience=5) # stop with patience 5\n",
    "    \n",
    "    with trange(epochs, desc='Progress', unit='epochs') as tepoch:\n",
    "        \n",
    "        for epoch in tepoch:\n",
    "            \n",
    "            # Training Phase \n",
    "            for batch in train_loader:\n",
    "                loss = model.training_step(batch)\n",
    "                loss.backward()\n",
    "                optimizer.step()\n",
    "                optimizer.zero_grad()\n",
    "            \n",
    "            # Validation phase\n",
    "            result = evaluate(model, val_loader)\n",
    "            history.append(result)\n",
    "            \n",
    "            tepoch.set_postfix(loss=loss.item())\n",
    "        \n",
    "        # Print final result\n",
    "        model.epoch_end(epoch, result)\n",
    "            \n",
    "            # Early stopping\n",
    "            #if es.step(loss):\n",
    "            #        break  \n",
    "\n",
    "    return history, result"
   ]
  },
  {
   "cell_type": "code",
   "execution_count": 7,
   "id": "78d69f1b-bf54-486f-88e9-7434e02811eb",
   "metadata": {},
   "outputs": [
    {
     "name": "stderr",
     "output_type": "stream",
     "text": [
      "Progress: 100%|██████████| 20/20 [00:09<00:00,  2.18epochs/s, loss=0.000352]"
     ]
    },
    {
     "name": "stdout",
     "output_type": "stream",
     "text": [
      "Epoch [19], val_loss: 0.000371\n"
     ]
    },
    {
     "name": "stderr",
     "output_type": "stream",
     "text": [
      "\n"
     ]
    }
   ],
   "source": [
    "# Pre train of principal model \n",
    "args = {'lr': 0.01,\n",
    "       'model': pruning_model,\n",
    "       'train_loader': train_dl,\n",
    "       'val_loader': val_dl,\n",
    "       'opt_func': torch.optim.Adam}\n",
    "\n",
    "history_principal, result_principal = fit(20, **args)"
   ]
  },
  {
   "cell_type": "code",
   "execution_count": 8,
   "id": "957a38f6-8f64-4f61-aaf7-29e86ed3c23c",
   "metadata": {},
   "outputs": [],
   "source": [
    "# Prepare pruned model \n",
    "\n",
    "cuts = [10, 20, 30, 40, 50, 60, 70, 80, 90]\n",
    "model_s = []\n",
    "model_c = []\n",
    "for p in cuts:\n",
    "    model_s.append(PruningSpectralNew(per=p))\n",
    "    model_c.append(PruningClassicalNew(per=p))\n",
    "\n",
    "\n"
   ]
  },
  {
   "cell_type": "code",
   "execution_count": 9,
   "id": "260eff3a-33db-456a-a017-917d4544d495",
   "metadata": {},
   "outputs": [
    {
     "name": "stderr",
     "output_type": "stream",
     "text": [
      "Progress: 100%|██████████| 20/20 [00:08<00:00,  2.31epochs/s, loss=0.000209]\n",
      "Progress:   0%|          | 0/20 [00:00<?, ?epochs/s]"
     ]
    },
    {
     "name": "stdout",
     "output_type": "stream",
     "text": [
      "Epoch [19], val_loss: 0.000229\n"
     ]
    },
    {
     "name": "stderr",
     "output_type": "stream",
     "text": [
      "Progress: 100%|██████████| 20/20 [00:08<00:00,  2.32epochs/s, loss=0.000187]\n",
      "Progress:   0%|          | 0/20 [00:00<?, ?epochs/s]"
     ]
    },
    {
     "name": "stdout",
     "output_type": "stream",
     "text": [
      "Epoch [19], val_loss: 0.000197\n"
     ]
    },
    {
     "name": "stderr",
     "output_type": "stream",
     "text": [
      "Progress: 100%|██████████| 20/20 [00:08<00:00,  2.31epochs/s, loss=0.000185]\n",
      "Progress:   0%|          | 0/20 [00:00<?, ?epochs/s]"
     ]
    },
    {
     "name": "stdout",
     "output_type": "stream",
     "text": [
      "Epoch [19], val_loss: 0.000194\n"
     ]
    },
    {
     "name": "stderr",
     "output_type": "stream",
     "text": [
      "Progress: 100%|██████████| 20/20 [00:08<00:00,  2.27epochs/s, loss=0.000182]\n",
      "Progress:   0%|          | 0/20 [00:00<?, ?epochs/s]"
     ]
    },
    {
     "name": "stdout",
     "output_type": "stream",
     "text": [
      "Epoch [19], val_loss: 0.000177\n"
     ]
    },
    {
     "name": "stderr",
     "output_type": "stream",
     "text": [
      "Progress: 100%|██████████| 20/20 [00:08<00:00,  2.38epochs/s, loss=0.000174]\n",
      "Progress:   0%|          | 0/20 [00:00<?, ?epochs/s]"
     ]
    },
    {
     "name": "stdout",
     "output_type": "stream",
     "text": [
      "Epoch [19], val_loss: 0.000174\n"
     ]
    },
    {
     "name": "stderr",
     "output_type": "stream",
     "text": [
      "Progress: 100%|██████████| 20/20 [00:08<00:00,  2.41epochs/s, loss=0.000154]\n",
      "Progress:   0%|          | 0/20 [00:00<?, ?epochs/s]"
     ]
    },
    {
     "name": "stdout",
     "output_type": "stream",
     "text": [
      "Epoch [19], val_loss: 0.000165\n"
     ]
    },
    {
     "name": "stderr",
     "output_type": "stream",
     "text": [
      "Progress: 100%|██████████| 20/20 [00:08<00:00,  2.42epochs/s, loss=0.000144]\n",
      "Progress:   0%|          | 0/20 [00:00<?, ?epochs/s]"
     ]
    },
    {
     "name": "stdout",
     "output_type": "stream",
     "text": [
      "Epoch [19], val_loss: 0.000157\n"
     ]
    },
    {
     "name": "stderr",
     "output_type": "stream",
     "text": [
      "Progress: 100%|██████████| 20/20 [00:08<00:00,  2.40epochs/s, loss=0.000164]\n",
      "Progress:   0%|          | 0/20 [00:00<?, ?epochs/s]"
     ]
    },
    {
     "name": "stdout",
     "output_type": "stream",
     "text": [
      "Epoch [19], val_loss: 0.000160\n"
     ]
    },
    {
     "name": "stderr",
     "output_type": "stream",
     "text": [
      "Progress: 100%|██████████| 20/20 [00:08<00:00,  2.43epochs/s, loss=0.000286]"
     ]
    },
    {
     "name": "stdout",
     "output_type": "stream",
     "text": [
      "Epoch [19], val_loss: 0.000277\n"
     ]
    },
    {
     "name": "stderr",
     "output_type": "stream",
     "text": [
      "\n"
     ]
    }
   ],
   "source": [
    "# Train spectral pruned model\n",
    "history_s = []\n",
    "result_s = []\n",
    "for i in range(len(cuts)):\n",
    "    args_s = {'lr': 0.01,\n",
    "              'model': model_s[i],\n",
    "              'train_loader': train_dl,\n",
    "              'val_loader': val_dl,\n",
    "              'opt_func': torch.optim.Adam}\n",
    "    h, r = fit(20, **args_s)\n",
    "    history_s.append(h)\n",
    "    result_s.append(r)\n",
    "    "
   ]
  },
  {
   "cell_type": "code",
   "execution_count": 10,
   "id": "ec09075d-c984-4082-8280-a880336e6e7e",
   "metadata": {},
   "outputs": [
    {
     "name": "stderr",
     "output_type": "stream",
     "text": [
      "Progress: 100%|██████████| 20/20 [00:08<00:00,  2.41epochs/s, loss=0.000261]\n",
      "Progress:   0%|          | 0/20 [00:00<?, ?epochs/s]"
     ]
    },
    {
     "name": "stdout",
     "output_type": "stream",
     "text": [
      "Epoch [19], val_loss: 0.000250\n"
     ]
    },
    {
     "name": "stderr",
     "output_type": "stream",
     "text": [
      "Progress: 100%|██████████| 20/20 [00:08<00:00,  2.38epochs/s, loss=0.000232]\n",
      "Progress:   0%|          | 0/20 [00:00<?, ?epochs/s]"
     ]
    },
    {
     "name": "stdout",
     "output_type": "stream",
     "text": [
      "Epoch [19], val_loss: 0.000216\n"
     ]
    },
    {
     "name": "stderr",
     "output_type": "stream",
     "text": [
      "Progress: 100%|██████████| 20/20 [00:08<00:00,  2.32epochs/s, loss=0.000189]\n",
      "Progress:   0%|          | 0/20 [00:00<?, ?epochs/s]"
     ]
    },
    {
     "name": "stdout",
     "output_type": "stream",
     "text": [
      "Epoch [19], val_loss: 0.000204\n"
     ]
    },
    {
     "name": "stderr",
     "output_type": "stream",
     "text": [
      "Progress: 100%|██████████| 20/20 [00:08<00:00,  2.38epochs/s, loss=0.000213]\n",
      "Progress:   0%|          | 0/20 [00:00<?, ?epochs/s]"
     ]
    },
    {
     "name": "stdout",
     "output_type": "stream",
     "text": [
      "Epoch [19], val_loss: 0.000196\n"
     ]
    },
    {
     "name": "stderr",
     "output_type": "stream",
     "text": [
      "Progress: 100%|██████████| 20/20 [00:08<00:00,  2.41epochs/s, loss=0.000183]\n",
      "Progress:   0%|          | 0/20 [00:00<?, ?epochs/s]"
     ]
    },
    {
     "name": "stdout",
     "output_type": "stream",
     "text": [
      "Epoch [19], val_loss: 0.000189\n"
     ]
    },
    {
     "name": "stderr",
     "output_type": "stream",
     "text": [
      "Progress: 100%|██████████| 20/20 [00:08<00:00,  2.41epochs/s, loss=0.000178]\n",
      "Progress:   0%|          | 0/20 [00:00<?, ?epochs/s]"
     ]
    },
    {
     "name": "stdout",
     "output_type": "stream",
     "text": [
      "Epoch [19], val_loss: 0.000186\n"
     ]
    },
    {
     "name": "stderr",
     "output_type": "stream",
     "text": [
      "Progress: 100%|██████████| 20/20 [00:08<00:00,  2.41epochs/s, loss=0.000175]\n",
      "Progress:   0%|          | 0/20 [00:00<?, ?epochs/s]"
     ]
    },
    {
     "name": "stdout",
     "output_type": "stream",
     "text": [
      "Epoch [19], val_loss: 0.000182\n"
     ]
    },
    {
     "name": "stderr",
     "output_type": "stream",
     "text": [
      "Progress: 100%|██████████| 20/20 [00:08<00:00,  2.40epochs/s, loss=0.000187]\n",
      "Progress:   0%|          | 0/20 [00:00<?, ?epochs/s]"
     ]
    },
    {
     "name": "stdout",
     "output_type": "stream",
     "text": [
      "Epoch [19], val_loss: 0.000178\n"
     ]
    },
    {
     "name": "stderr",
     "output_type": "stream",
     "text": [
      "Progress: 100%|██████████| 20/20 [00:08<00:00,  2.41epochs/s, loss=0.00017] "
     ]
    },
    {
     "name": "stdout",
     "output_type": "stream",
     "text": [
      "Epoch [19], val_loss: 0.000175\n"
     ]
    },
    {
     "name": "stderr",
     "output_type": "stream",
     "text": [
      "\n"
     ]
    }
   ],
   "source": [
    "# Train classical pruned model\n",
    "history_c = []\n",
    "result_c = []\n",
    "for i in range(len(cuts)):\n",
    "    args_c = {'lr': 0.01,\n",
    "              'model': model_c[i],\n",
    "              'train_loader': train_dl,\n",
    "              'val_loader': val_dl,\n",
    "              'opt_func': torch.optim.Adam}\n",
    "    h, r = fit(20, **args_s)\n",
    "    history_c.append(h)\n",
    "    result_c.append(r)"
   ]
  },
  {
   "cell_type": "code",
   "execution_count": 11,
   "id": "8162494c-be95-4cd3-bfe3-662e5d645e45",
   "metadata": {},
   "outputs": [
    {
     "data": {
      "image/png": "[encoded data removed]",
      "text/plain": [
       "<Figure size 432x288 with 1 Axes>"
      ]
     },
     "metadata": {
      "needs_background": "light"
     },
     "output_type": "display_data"
    }
   ],
   "source": [
    "#losses = [result['val_loss'] for result in result_principal]\n",
    "losses_s = [result['val_loss'] for result in result_s]\n",
    "losses_c = [result['val_loss'] for result in result_c]\n",
    "\n",
    "plt.plot(cuts,losses_s, '-x', label='Spectral Pruning')\n",
    "plt.plot(cuts,losses_c, '-x', label='Classical Pruning')\n",
    "#plt.plot(losses1, '-x', label='pruned 25%')\n",
    "#plt.plot(losses2, '-x', label='pruned 50%')\n",
    "#plt.plot(losses3, '-x', label='pruned 75%')\n",
    "plt.xlabel('percentile')\n",
    "plt.ylabel('loss')\n",
    "plt.legend()\n",
    "\n",
    "plt.show()"
   ]
  },
  {
   "cell_type": "code",
   "execution_count": 12,
   "id": "160c58b1-6f03-4ff8-8957-ca502e0a5cc0",
   "metadata": {},
   "outputs": [
    {
     "data": {
      "image/png": "[encoded data removed]",
      "text/plain": [
       "<Figure size 432x288 with 1 Axes>"
      ]
     },
     "metadata": {
      "needs_background": "light"
     },
     "output_type": "display_data"
    }
   ],
   "source": [
    "# Prediction on test tadaset\n",
    "\n",
    "t_c = [evaluate(model_c[i], test_dl) for i in range(len(cuts))]\n",
    "t_s = [evaluate(model_s[i], test_dl) for i in range(len(cuts))]\n",
    "\n",
    "test_c = [t_c[i]['val_loss'] for i in range(len(cuts))]\n",
    "test_s = [t_s[i]['val_loss'] for i in range(len(cuts))]\n",
    "\n",
    "plt.plot(cuts,test_s, '-x', label='Spectral Pruning')\n",
    "plt.plot(cuts,test_c, '-x', label='Classical Pruning')\n",
    "plt.xlabel('percentile')\n",
    "plt.ylabel('loss')\n",
    "plt.legend()\n",
    "\n",
    "plt.show()\n",
    "\n",
    "#print(\"Results obtained on the test dataset...\")\n",
    "#print(\"Loss for non pruned model: {:.3} \".format(ris_non_pruned['val_loss']))\n",
    "#print(\"Loss for model pruned 25%: {:.3} \".format(ris_pruned1['val_loss']))\n",
    "#print(\"Loss for model pruned 50%: {:.3} \".format(ris_pruned2['val_loss']))\n",
    "#print(\"Loss for model pruned 75%: {:.3} \".format(ris_pruned3['val_loss']))\n",
    "\n"
   ]
  },
  {
   "cell_type": "code",
   "execution_count": null,
   "id": "c2148f9d-6ae4-41d7-84c8-67d745beae35",
   "metadata": {},
   "outputs": [],
   "source": []
  }
 ],
 "metadata": {
  "kernelspec": {
   "display_name": "Python 3",
   "language": "python",
   "name": "python3"
  },
  "language_info": {
   "codemirror_mode": {
    "name": "ipython",
    "version": 3
   },
   "file_extension": ".py",
   "mimetype": "text/x-python",
   "name": "python",
   "nbconvert_exporter": "python",
   "pygments_lexer": "ipython3",
   "version": "3.8.5"
  }
 },
 "nbformat": 4,
 "nbformat_minor": 5
}
